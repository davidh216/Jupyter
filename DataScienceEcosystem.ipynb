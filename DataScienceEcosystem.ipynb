{
 "cells": [
  {
   "cell_type": "markdown",
   "id": "58e52484-eb9c-40b1-85ad-a9abe283ddca",
   "metadata": {},
   "source": [
    "# Data Science Tools and Ecosystem"
   ]
  },
  {
   "attachments": {
    "a26e1097-0a64-4db3-9002-b5ec0b0a84c8.png": {
     "image/png": "[encoded data removed]"
    }
   },
   "cell_type": "markdown",
   "id": "ca13b85c-d2b9-4c8f-b166-9cf8f7d60e4c",
   "metadata": {},
   "source": [
    "![image.png](attachment:a26e1097-0a64-4db3-9002-b5ec0b0a84c8.png)"
   ]
  },
  {
   "cell_type": "markdown",
   "id": "30dc21e4-9b73-4cb6-ae9f-5ea43382249e",
   "metadata": {},
   "source": [
    "In this notebook, Data Science Tools and Ecosystem are summarized.\n",
    "Some of the popular languages that Data Scientists use are:\n",
    "1. Python\n",
    "2. R\n",
    "3. SQL"
   ]
  },
  {
   "cell_type": "markdown",
   "id": "4243723c-d122-4cc7-850f-54f6791eca02",
   "metadata": {},
   "source": [
    "Some of the commonly used libraries used by Data Scientists include:\n",
    "1. Pandas\n",
    "2. Scikit-learn\n",
    "3. ggplot"
   ]
  },
  {
   "cell_type": "markdown",
   "id": "c88e6797-bf86-4c4d-991e-ce477ce37291",
   "metadata": {},
   "source": [
    "| Data Science Tools |\n",
    "| - |\n",
    "| R Studio |\n",
    "| Jupyter |\n",
    "| Colab |"
   ]
  },
  {
   "cell_type": "markdown",
   "id": "3753f212-4222-43af-8e18-b895854f3028",
   "metadata": {},
   "source": [
    "### Below are a few examples of evaluating arithmetic expressions in Python."
   ]
  },
  {
   "cell_type": "code",
   "execution_count": 3,
   "id": "9219d709-b837-4b3b-8351-97745add4063",
   "metadata": {},
   "outputs": [
    {
     "data": {
      "text/plain": [
       "17"
      ]
     },
     "execution_count": 3,
     "metadata": {},
     "output_type": "execute_result"
    }
   ],
   "source": [
    "# this is a simple arithmetic experession to multiply then add integers\n",
    "(3*4)+5"
   ]
  },
  {
   "cell_type": "code",
   "execution_count": 4,
   "id": "4fccbd78-a5cc-4824-b130-9a6b217761d7",
   "metadata": {},
   "outputs": [
    {
     "data": {
      "text/plain": [
       "3.3333333333333335"
      ]
     },
     "execution_count": 4,
     "metadata": {},
     "output_type": "execute_result"
    }
   ],
   "source": [
    "#this will convert 200 minutes to hours by dividing by 60\n",
    "200/60"
   ]
  },
  {
   "cell_type": "markdown",
   "id": "1927e539-7b77-4556-aea1-f71e3ea26108",
   "metadata": {},
   "source": [
    "<b>Objectives:<b>\n",
    "- List popular languages\n",
    "- List popular libraries\n",
    "- Show how to run code"
   ]
  },
  {
   "cell_type": "markdown",
   "id": "d4d11ec0-06f9-42f2-8b9c-6f9e94348d64",
   "metadata": {},
   "source": [
    "## Author\n",
    "David Hwang"
   ]
  },
  {
   "cell_type": "code",
   "execution_count": null,
   "id": "3e4cb886-4a1f-487c-9dbf-ed74e8916e5c",
   "metadata": {},
   "outputs": [],
   "source": []
  }
 ],
 "metadata": {
  "kernelspec": {
   "display_name": "Python 3 (ipykernel)",
   "language": "python",
   "name": "python3"
  },
  "language_info": {
   "codemirror_mode": {
    "name": "ipython",
    "version": 3
   },
   "file_extension": ".py",
   "mimetype": "text/x-python",
   "name": "python",
   "nbconvert_exporter": "python",
   "pygments_lexer": "ipython3",
   "version": "3.10.9"
  }
 },
 "nbformat": 4,
 "nbformat_minor": 5
}
